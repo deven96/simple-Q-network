{
 "cells": [
  {
   "cell_type": "markdown",
   "metadata": {},
   "source": [
    "# Solving the Markov Decision Process"
   ]
  },
  {
   "cell_type": "code",
   "execution_count": 1,
   "metadata": {
    "collapsed": true
   },
   "outputs": [],
   "source": [
    "import sys  # logging purpose\n",
    "\n",
    "import gym\n",
    "import numpy as np"
   ]
  },
  {
   "cell_type": "code",
   "execution_count": 2,
   "metadata": {
    "collapsed": false
   },
   "outputs": [],
   "source": [
    "env_name = 'Taxi-v2'\n",
    "env = gym.make(env_name)"
   ]
  },
  {
   "cell_type": "code",
   "execution_count": 3,
   "metadata": {
    "collapsed": false
   },
   "outputs": [
    {
     "name": "stdout",
     "output_type": "stream",
     "text": [
      "Taxi-v2 has 500 states and 6 possible actions.\n"
     ]
    }
   ],
   "source": [
    "n_states = env.env.nS\n",
    "n_actions = env.env.nA\n",
    "print(f'{env_name} has {n_states} states and {n_actions} possible actions.')"
   ]
  },
  {
   "cell_type": "markdown",
   "metadata": {},
   "source": [
    "### Q-Table"
   ]
  },
  {
   "cell_type": "code",
   "execution_count": 4,
   "metadata": {
    "collapsed": true
   },
   "outputs": [],
   "source": [
    "Q = np.zeros(shape=[n_states, n_actions])\n",
    "gamma = 0.5  # Discount Factor"
   ]
  },
  {
   "cell_type": "code",
   "execution_count": 5,
   "metadata": {
    "collapsed": false
   },
   "outputs": [
    {
     "name": "stdout",
     "output_type": "stream",
     "text": [
      "=== BEFORE LEARNING ===\n",
      "+---------+\n",
      "|\u001b[35mR\u001b[0m: | : :\u001b[34;1mG\u001b[0m|\n",
      "| : : : : |\n",
      "| : : : :\u001b[43m \u001b[0m|\n",
      "| | : | : |\n",
      "|Y| : |B: |\n",
      "+---------+\n",
      "\n",
      "Episode: 500\tRewards: 11\tTotal rewards: -98,985\n",
      "Episode: 1,000\tRewards: 11\tTotal rewards: -96,872\n",
      "Episode: 1,500\tRewards: 8\tTotal rewards: -92,894\n",
      "Episode: 2,000\tRewards: 10\tTotal rewards: -88,826\n",
      "Episode: 2,500\tRewards: 7\tTotal rewards: -84,611\n",
      "Episode: 3,000\tRewards: 13\tTotal rewards: -80,373\n",
      "Episode: 3,500\tRewards: 7\tTotal rewards: -76,179\n",
      "Episode: 4,000\tRewards: 11\tTotal rewards: -71,867\n",
      "Episode: 4,500\tRewards: 6\tTotal rewards: -67,765\n",
      "Episode: 5,000\tRewards: 11\tTotal rewards: -63,583\n",
      "=== AFTER LEARNING ===\n",
      "+---------+\n",
      "|R: | : :G|\n",
      "| : : : : |\n",
      "| : : : : |\n",
      "| | : | : |\n",
      "|Y| : |\u001b[35m\u001b[42mB\u001b[0m\u001b[0m: |\n",
      "+---------+\n",
      "  (Dropoff)\n"
     ]
    }
   ],
   "source": [
    "print('=== BEFORE LEARNING ===')\n",
    "env.render()\n",
    "\n",
    "episodes = 2000\n",
    "total_reward = 0\n",
    "\n",
    "# Game Loop\n",
    "for episode in range(1, episodes+1):\n",
    "    state = env.reset()\n",
    "    done = False\n",
    "    rewards = 0\n",
    "    while not done:\n",
    "        # Choose action from table\n",
    "        action = np.argmax(Q[state])\n",
    "        # Transition to a new state based on the action\n",
    "        new_state, reward, done, _ = env.step(action)\n",
    "        # Update Q table\n",
    "        Q[state, action] += reward + gamma * np.max(Q[new_state])\n",
    "        rewards += reward\n",
    "        state = new_state\n",
    "    # Update total rewards & log results\n",
    "    total_reward += rewards\n",
    "    # Every 500 steps\n",
    "    if episode % 500 == 0 or episode == episodes:\n",
    "        print(f'Episode: {episode:,}\\tRewards: {rewards:,}'\n",
    "              f'\\tTotal rewards: {total_reward:,}')\n",
    "\n",
    "print('\\n=== AFTER LEARNING ===')        \n",
    "env.render()"
   ]
  },
  {
   "cell_type": "code",
   "execution_count": null,
   "metadata": {
    "collapsed": false
   },
   "outputs": [],
   "source": []
  },
  {
   "cell_type": "code",
   "execution_count": 6,
   "metadata": {
    "collapsed": true
   },
   "outputs": [],
   "source": [
    "env.close()"
   ]
  }
 ],
 "metadata": {
  "kernelspec": {
   "display_name": "Python 3",
   "language": "python",
   "name": "python3"
  },
  "language_info": {
   "codemirror_mode": {
    "name": "ipython",
    "version": 3
   },
   "file_extension": ".py",
   "mimetype": "text/x-python",
   "name": "python",
   "nbconvert_exporter": "python",
   "pygments_lexer": "ipython3",
   "version": "3.6.3"
  }
 },
 "nbformat": 4,
 "nbformat_minor": 2
}
