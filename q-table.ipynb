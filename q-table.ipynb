{
 "cells": [
  {
   "cell_type": "markdown",
   "metadata": {
    "deletable": true,
    "editable": true
   },
   "source": [
    "# Solving the Markov Decision Process"
   ]
  },
  {
   "cell_type": "code",
   "execution_count": 1,
   "metadata": {
    "collapsed": true,
    "deletable": true,
    "editable": true
   },
   "outputs": [],
   "source": [
    "import gym\n",
    "import numpy as np"
   ]
  },
  {
   "cell_type": "code",
   "execution_count": 2,
   "metadata": {
    "collapsed": false,
    "deletable": true,
    "editable": true
   },
   "outputs": [],
   "source": [
    "env_name = 'Taxi-v2'\n",
    "env = gym.make(env_name)"
   ]
  },
  {
   "cell_type": "code",
   "execution_count": 3,
   "metadata": {
    "collapsed": false,
    "deletable": true,
    "editable": true
   },
   "outputs": [
    {
     "name": "stdout",
     "output_type": "stream",
     "text": [
      "Taxi-v2 has 500 states and 6 possible actions.\n"
     ]
    }
   ],
   "source": [
    "n_states = env.env.nS\n",
    "n_actions = env.env.nA\n",
    "print(f'{env_name} has {n_states} states and {n_actions} possible actions.')"
   ]
  },
  {
   "cell_type": "markdown",
   "metadata": {
    "deletable": true,
    "editable": true
   },
   "source": [
    "### Hyperparameters"
   ]
  },
  {
   "cell_type": "code",
   "execution_count": 4,
   "metadata": {
    "collapsed": true,
    "deletable": true,
    "editable": true
   },
   "outputs": [],
   "source": [
    "# Q-values\n",
    "Q = np.zeros(shape=[n_states, n_actions])"
   ]
  },
  {
   "cell_type": "code",
   "execution_count": 5,
   "metadata": {
    "collapsed": true
   },
   "outputs": [],
   "source": [
    "def run(episodes=1000, training=False, render=False, **kwargs):\n",
    "    # Keyword arguments\n",
    "    gamma = kwargs.get('gamma', 0.9)       # Discount Factor\n",
    "    alpha = kwargs.get('alpha', 0.01)      # Learning Rate\n",
    "    render = kwargs.get('render', False)   # Render the environment (slow)\n",
    "    epsilon = kwargs.get('epsilon', 0.1)   # Exploration-Exploitation Dilemma\n",
    "    logging = kwargs.get('logging', True)  # Show results\n",
    "    \n",
    "    total_reward = 0\n",
    "    # Game Loop\n",
    "    for episode in range(1, episodes+1):\n",
    "        state = env.reset()\n",
    "        done = False\n",
    "        rewards = 0\n",
    "        while not done:\n",
    "            # epsilon percent of the time we take a random action\n",
    "            if training or np.random.randn(1) > epsilon:\n",
    "                # Exploitation: Choose action from table\n",
    "                action = np.argmax(Q[state])            \n",
    "            else:\n",
    "                # Exploration: Take random actions\n",
    "                action = env.action_space.sample()\n",
    "            # Transition to a new state based on the action\n",
    "            new_state, reward, done, _ = env.step(action)\n",
    "            # Update Q table\n",
    "            # current_Qvalue += learning_rate * (reward + (discount * max(next_Qvalues)) - current_Qvalue)\n",
    "            Q[state, action] += alpha * (reward + (gamma * np.max(Q[new_state])) - Q[state, action])\n",
    "            rewards += reward\n",
    "            state = new_state\n",
    "        # Update total rewards & log results\n",
    "        total_reward += rewards\n",
    "        if logging:\n",
    "            # Every 500 steps\n",
    "            if episode % 500 == 0 or episode == episodes:\n",
    "                print(f'Episode: {episode:,}\\tRewards: {rewards:,}'\n",
    "                      f'\\tTotal rewards: {total_reward:,}')\n",
    "\n",
    "    return total_reward"
   ]
  },
  {
   "cell_type": "code",
   "execution_count": 6,
   "metadata": {
    "collapsed": false,
    "deletable": true,
    "editable": true,
    "scrolled": false
   },
   "outputs": [
    {
     "name": "stdout",
     "output_type": "stream",
     "text": [
      "================================================================================\n",
      "\t\t\tBEFORE LEARNING\n",
      "================================================================================\n",
      "+---------+\n",
      "|R: | : :\u001b[34;1mG\u001b[0m|\n",
      "| : : : : |\n",
      "| :\u001b[43m \u001b[0m: : : |\n",
      "| | : | : |\n",
      "|\u001b[35mY\u001b[0m| : |B: |\n",
      "+---------+\n",
      "\n",
      "Episode: 500\tRewards: -290\tTotal rewards: -128,486\n",
      "Episode: 1,000\tRewards: -203\tTotal rewards: -242,143\n",
      "Episode: 1,500\tRewards: -254\tTotal rewards: -340,233\n",
      "Episode: 2,000\tRewards: -169\tTotal rewards: -424,473\n",
      "Total reward = -424473\n",
      "================================================================================\n",
      "\t\t\tBEFORE LEARNING\n",
      "================================================================================\n",
      "+---------+\n",
      "|R: | : :\u001b[35m\u001b[42mG\u001b[0m\u001b[0m|\n",
      "| : : : : |\n",
      "| : : : : |\n",
      "| | : | : |\n",
      "|Y| : |B: |\n",
      "+---------+\n",
      "  (Dropoff)\n"
     ]
    }
   ],
   "source": [
    "###############################################################\n",
    "print('{0}\\n\\t\\t\\t{1}\\n{0}'.format('='*80, 'BEFORE LEARNING'))\n",
    "env.render()\n",
    "###############################################################\n",
    "episodes = 2000\n",
    "total_reward = run(episodes, training=True)\n",
    "print(f'Total reward = {total_reward:,}')\n",
    "\n",
    "run(1, training=False, logging=False)\n",
    "###############################################################\n",
    "print('{0}\\n\\t\\t\\t{1}\\n{0}'.format('='*80, 'BEFORE LEARNING'))\n",
    "env.render()\n",
    "###############################################################"
   ]
  },
  {
   "cell_type": "markdown",
   "metadata": {
    "deletable": true,
    "editable": true
   },
   "source": [
    "### Release resourses"
   ]
  },
  {
   "cell_type": "code",
   "execution_count": null,
   "metadata": {
    "collapsed": true,
    "deletable": true,
    "editable": true
   },
   "outputs": [],
   "source": [
    "env.close()"
   ]
  }
 ],
 "metadata": {
  "kernelspec": {
   "display_name": "Python 3",
   "language": "python",
   "name": "python3"
  },
  "language_info": {
   "codemirror_mode": {
    "name": "ipython",
    "version": 3
   },
   "file_extension": ".py",
   "mimetype": "text/x-python",
   "name": "python",
   "nbconvert_exporter": "python",
   "pygments_lexer": "ipython3",
   "version": "3.6.3"
  }
 },
 "nbformat": 4,
 "nbformat_minor": 2
}
