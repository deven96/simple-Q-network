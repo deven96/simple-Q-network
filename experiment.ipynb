{
 "cells": [
  {
   "cell_type": "markdown",
   "metadata": {},
   "source": [
    "# Experiment"
   ]
  },
  {
   "cell_type": "code",
   "execution_count": 1,
   "metadata": {
    "collapsed": true
   },
   "outputs": [],
   "source": [
    "import os\n",
    "import sys\n",
    "\n",
    "from datetime import datetime as dt\n",
    "\n",
    "import cv2\n",
    "import gym\n",
    "import numpy as np\n",
    "import tensorflow as tf\n",
    "\n",
    "import matplotlib.pyplot as plt\n",
    "%matplotlib inline"
   ]
  },
  {
   "cell_type": "code",
   "execution_count": 2,
   "metadata": {
    "collapsed": true
   },
   "outputs": [],
   "source": [
    "env_name = 'Pong-v0'\n",
    "env = gym.make(env_name)"
   ]
  },
  {
   "cell_type": "code",
   "execution_count": 33,
   "metadata": {
    "collapsed": false
   },
   "outputs": [
    {
     "name": "stdout",
     "output_type": "stream",
     "text": [
      "States: (210, 160, 3)\tActions: 6\n"
     ]
    }
   ],
   "source": [
    "state_shape = env.observation_space.shape\n",
    "n_actions = env.action_space.n\n",
    "print(f'States: {state_shape}\\tActions: {n_actions}')"
   ]
  },
  {
   "cell_type": "code",
   "execution_count": 32,
   "metadata": {
    "collapsed": false
   },
   "outputs": [],
   "source": [
    "def network(state):\n",
    "    net = tf.reshape(state, [-1, *state_shape])\n",
    "    # 3 convolutional layers\n",
    "    net = tf.layers.conv2d(net, filters=16, kernel_size=5, strides=1, padding='same')\n",
    "    net = tf.layers.conv2d(net, filters=16, kernel_size=5, strides=2, padding='same')\n",
    "    net = tf.layers.conv2d(net, filters=32, kernel_size=5, strides=2, padding='same')\n",
    "    # flattening layer\n",
    "    net = tf.contrib.layers.flatten(net)\n",
    "    # 2 fully connected layers\n",
    "    net = tf.layers.dense(net, units=128, activation=tf.nn.relu)\n",
    "    net = tf.layers.dense(net, units=n_actions)\n",
    "    return net"
   ]
  },
  {
   "cell_type": "code",
   "execution_count": 36,
   "metadata": {
    "collapsed": true
   },
   "outputs": [],
   "source": [
    "# Reset default graph\n",
    "tf.reset_default_graph()\n",
    "\n",
    "# Placeholders\n",
    "state_placeholder = tf.placeholder(tf.float32, shape=state_shape)\n",
    "action_paceholder = tf.placeholder(tf.int32, shape=[n_actions])\n",
    "\n",
    "# Loss function\n",
    "logits = network(state_placeholder)\n",
    "x_entropy = tf.nn.softmax_cross_entropy_with_logits(logits=logits, \n",
    "                                                    labels=action_paceholder)\n",
    "loss = tf.reduce_mean(x_entropy)\n",
    "\n",
    "# Training\n",
    "global_step = tf.Variable(0, trainable=False)\n",
    "optimizer = tf.train.AdamOptimizer()\n",
    "train = optimizer.minimize(loss, global_step=global_step)"
   ]
  },
  {
   "cell_type": "markdown",
   "metadata": {},
   "source": [
    "### Tesnorflow's `Session`"
   ]
  },
  {
   "cell_type": "code",
   "execution_count": 37,
   "metadata": {
    "collapsed": true
   },
   "outputs": [],
   "source": [
    "sess = tf.Session()\n",
    "init = tf.global_variables_initializer()\n",
    "sess.run(init)"
   ]
  },
  {
   "cell_type": "markdown",
   "metadata": {},
   "source": [
    "### Tensorboard"
   ]
  },
  {
   "cell_type": "code",
   "execution_count": 38,
   "metadata": {
    "collapsed": false
   },
   "outputs": [],
   "source": [
    "save_dir = 'saved/experiment/{env_name}'\n",
    "tboard_dir = os.path.join(save_dir, 'tensorboard')\n",
    "logdir = os.path.join(tboard_dir, 'log')\n",
    "\n",
    "model_dir = os.path.join(save_dir, 'models')\n",
    "model_path = os.path.join(model_dir, 'model.ckpt')\n",
    "\n",
    "# Summary\n",
    "tf.summary.scalar('loss', loss)\n",
    "merged = tf.summary.merge_all()\n",
    "\n",
    "# Saver & Writer\n",
    "saver = tf.train.Saver()\n",
    "writer = tf.summary.FileWriter(logdir=logdir, graph=sess.graph)"
   ]
  },
  {
   "cell_type": "code",
   "execution_count": null,
   "metadata": {
    "collapsed": true
   },
   "outputs": [],
   "source": [
    "if tf.gfile.Exists(model_dir):\n",
    "    try:\n",
    "        print('Attempting to restore last checkpoint')\n",
    "        ckpt_file = tf.train.latest_checkpoint(model_dir)\n",
    "        saver.restore(sess=sess, save_path=ckpt_file)\n",
    "        print(f'Successfully restored last chekcpoint - {ckpt_file}')\n",
    "    except Exception as e:\n",
    "        sys.stderr.write(f'ERR: Could not restore checkpoint. {e}')\n",
    "        sys.stderr.flush()\n",
    "else:\n",
    "    tf.gfile.MakeDirs(model_dir)\n",
    "    print(f'Created checkpoint directory - {model_dir}')"
   ]
  }
 ],
 "metadata": {
  "kernelspec": {
   "display_name": "Python 3",
   "language": "python",
   "name": "python3"
  },
  "language_info": {
   "codemirror_mode": {
    "name": "ipython",
    "version": 3
   },
   "file_extension": ".py",
   "mimetype": "text/x-python",
   "name": "python",
   "nbconvert_exporter": "python",
   "pygments_lexer": "ipython3",
   "version": "3.6.3"
  }
 },
 "nbformat": 4,
 "nbformat_minor": 2
}
